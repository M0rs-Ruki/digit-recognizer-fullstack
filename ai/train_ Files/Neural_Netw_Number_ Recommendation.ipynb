{
 "cells": [
  {
   "cell_type": "markdown",
   "metadata": {},
   "source": [
    "# Neural Network for Digit Recognition\n",
    "\n",
    "This notebook implements a neural network to recognize handwritten digits using the MNIST dataset. The network uses one hidden layer with ReLU activation and an output layer with softmax activation.\n"
   ]
  },
  {
   "cell_type": "code",
   "execution_count": 10,
   "metadata": {},
   "outputs": [],
   "source": [
    "import numpy as np\n",
    "import pandas as pd\n",
    "from matplotlib import pyplot as plt"
   ]
  },
  {
   "cell_type": "code",
   "execution_count": 11,
   "metadata": {},
   "outputs": [],
   "source": [
    "# Load and preprocess the data\n",
    "data = pd.read_csv('C:/Users/anupp/OneDrive/Documents/Python/Projectsss/digit-recognizer/train.csv')  \n",
    "data = np.array(data)\n",
    "num_samples, num_features = data.shape\n",
    "np.random.shuffle(data)\n",
    "\n",
    "# Split data into training and validation sets\n",
    "validation_data = data[0:1000].T\n",
    "validation_labels = validation_data[0]\n",
    "validation_features = validation_data[1:num_features] / 255.\n",
    "\n",
    "training_data = data[1000:num_samples].T\n",
    "training_labels = training_data[0]\n",
    "training_features = training_data[1:num_features] / 255.\n",
    "_, num_training_samples = training_features.shape\n"
   ]
  },
  {
   "cell_type": "markdown",
   "metadata": {},
   "source": [
    "![alt text](<Screenshot 2024-11-29 015505.png>)\n",
    "\n"
   ]
  },
  {
   "cell_type": "code",
   "execution_count": 12,
   "metadata": {},
   "outputs": [],
   "source": [
    "# Initialize neural network parameters\n",
    "def initialize_parameters():\n",
    "    hidden_layer_weights = np.random.rand(10, 784) - 0.5\n",
    "    hidden_layer_biases = np.random.rand(10, 1) - 0.5\n",
    "    output_layer_weights = np.random.rand(10, 10) - 0.5\n",
    "    output_layer_biases = np.random.rand(10, 1) - 0.5\n",
    "    return hidden_layer_weights, hidden_layer_biases, output_layer_weights, output_layer_biases\n",
    "\n",
    "# Activation functions\n",
    "def relu(linear_output):\n",
    "    return np.maximum(linear_output, 0)\n",
    "\n",
    "def softmax(linear_output):\n",
    "    exp_output = np.exp(linear_output - np.max(linear_output, axis=0, keepdims=True))\n",
    "    return exp_output / np.sum(exp_output, axis=0, keepdims=True)\n",
    "\n",
    "# Forward propagation\n",
    "def forward_propagation(hidden_layer_weights, hidden_layer_biases, output_layer_weights, output_layer_biases, features):\n",
    "    hidden_layer_linear_output = hidden_layer_weights.dot(features) + hidden_layer_biases\n",
    "    hidden_layer_activation = relu(hidden_layer_linear_output)\n",
    "    output_layer_linear_output = output_layer_weights.dot(hidden_layer_activation) + output_layer_biases\n",
    "    output_layer_activation = softmax(output_layer_linear_output)\n",
    "    return hidden_layer_linear_output, hidden_layer_activation, output_layer_linear_output, output_layer_activation"
   ]
  },
  {
   "cell_type": "markdown",
   "metadata": {},
   "source": [
    "![alt text](<Screenshot 2024-11-29 020249.png>)"
   ]
  },
  {
   "cell_type": "code",
   "execution_count": 13,
   "metadata": {},
   "outputs": [],
   "source": [
    "# Derivative of ReLU\n",
    "def relu_derivative(linear_output):\n",
    "    return linear_output > 0\n",
    "\n",
    "# One-hot encoding for labels\n",
    "def one_hot_encode(labels):\n",
    "    one_hot_matrix = np.zeros((labels.size, labels.max() + 1))\n",
    "    one_hot_matrix[np.arange(labels.size), labels] = 1\n",
    "    return one_hot_matrix.T"
   ]
  },
  {
   "cell_type": "markdown",
   "metadata": {},
   "source": [
    "![alt text](<Screenshot 2024-11-29 020315.png>)"
   ]
  },
  {
   "cell_type": "code",
   "execution_count": 14,
   "metadata": {},
   "outputs": [],
   "source": [
    "\n",
    "\n",
    "\n",
    "# Backward propagation\n",
    "def backward_propagation(hidden_layer_linear_output, hidden_layer_activation, output_layer_linear_output, output_layer_activation, hidden_layer_weights, output_layer_weights, features, labels):\n",
    "    one_hot_labels = one_hot_encode(labels)\n",
    "    output_error = output_layer_activation - one_hot_labels\n",
    "    gradient_output_layer_weights = 1 / num_training_samples * output_error.dot(hidden_layer_activation.T)\n",
    "    gradient_output_layer_biases = 1 / num_training_samples * np.sum(output_error, axis=1, keepdims=True)\n",
    "    hidden_error = output_layer_weights.T.dot(output_error) * relu_derivative(hidden_layer_linear_output)\n",
    "    gradient_hidden_layer_weights = 1 / num_training_samples * hidden_error.dot(features.T)\n",
    "    gradient_hidden_layer_biases = 1 / num_training_samples * np.sum(hidden_error, axis=1, keepdims=True)\n",
    "    return gradient_hidden_layer_weights, gradient_hidden_layer_biases, gradient_output_layer_weights, gradient_output_layer_biases\n"
   ]
  },
  {
   "cell_type": "markdown",
   "metadata": {},
   "source": [
    "![alt text](<Screenshot 2024-11-29 020329.png>)"
   ]
  },
  {
   "cell_type": "code",
   "execution_count": 15,
   "metadata": {},
   "outputs": [],
   "source": [
    "# Update parameters\n",
    "def update_parameters(hidden_layer_weights, hidden_layer_biases, output_layer_weights, output_layer_biases, gradient_hidden_layer_weights, gradient_hidden_layer_biases, gradient_output_layer_weights, gradient_output_layer_biases, learning_rate):\n",
    "    hidden_layer_weights -= learning_rate * gradient_hidden_layer_weights\n",
    "    hidden_layer_biases -= learning_rate * gradient_hidden_layer_biases\n",
    "    output_layer_weights -= learning_rate * gradient_output_layer_weights\n",
    "    output_layer_biases -= learning_rate * gradient_output_layer_biases\n",
    "    return hidden_layer_weights, hidden_layer_biases, output_layer_weights, output_layer_biases\n"
   ]
  },
  {
   "cell_type": "markdown",
   "metadata": {},
   "source": [
    "Summary\n",
    "These equations collectively define how the neural network processes inputs, learns from errors, and adjusts its parameters to minimize the cost function. The two main operations are forward propagation (to compute predictions) and backward propagation (to compute gradients)."
   ]
  },
  {
   "cell_type": "markdown",
   "metadata": {},
   "source": [
    "![alt text](<Screenshot 2024-11-29 021130.png>)"
   ]
  },
  {
   "cell_type": "code",
   "execution_count": 21,
   "metadata": {},
   "outputs": [],
   "source": [
    "# Predictions and accuracy\n",
    "def get_predictions(output_layer_activation):\n",
    "    return np.argmax(output_layer_activation, axis=0)\n",
    "\n",
    "def calculate_accuracy(predictions, labels):\n",
    "    return np.sum(predictions == labels) / labels.size"
   ]
  },
  {
   "cell_type": "markdown",
   "metadata": {},
   "source": [
    "![alt text](<Screenshot 2024-11-29 021216.png>)"
   ]
  },
  {
   "cell_type": "markdown",
   "metadata": {},
   "source": [
    "![alt text](<Screenshot 2024-11-29 021251.png>)"
   ]
  },
  {
   "cell_type": "markdown",
   "metadata": {},
   "source": [
    "![alt text](<Screenshot 2024-11-29 021313.png>)"
   ]
  },
  {
   "cell_type": "code",
   "execution_count": null,
   "metadata": {},
   "outputs": [],
   "source": [
    "\n",
    "\n",
    "# Training with gradient descent\n",
    "def gradient_descent(features, labels, learning_rate, iterations):\n",
    "    hidden_layer_weights, hidden_layer_biases, output_layer_weights, output_layer_biases = initialize_parameters()\n",
    "    for i in range(iterations):\n",
    "        hidden_layer_linear_output, hidden_layer_activation, output_layer_linear_output, output_layer_activation = forward_propagation(\n",
    "            hidden_layer_weights, hidden_layer_biases, output_layer_weights, output_layer_biases, features)\n",
    "        gradient_hidden_layer_weights, gradient_hidden_layer_biases, gradient_output_layer_weights, gradient_output_layer_biases = backward_propagation(\n",
    "            hidden_layer_linear_output, hidden_layer_activation, output_layer_linear_output, output_layer_activation,\n",
    "            hidden_layer_weights, output_layer_weights, features, labels)\n",
    "        hidden_layer_weights, hidden_layer_biases, output_layer_weights, output_layer_biases = update_parameters(\n",
    "            hidden_layer_weights, hidden_layer_biases, output_layer_weights, output_layer_biases, gradient_hidden_layer_weights,\n",
    "            gradient_hidden_layer_biases, gradient_output_layer_weights, gradient_output_layer_biases, learning_rate)\n",
    "        if i % 10 == 0:\n",
    "            predictions = get_predictions(output_layer_activation)\n",
    "            print(\"Iteration:\", i, \"Accuracy:\", calculate_accuracy(predictions, labels))\n",
    "    return hidden_layer_weights, hidden_layer_biases, output_layer_weights, output_layer_biases"
   ]
  },
  {
   "cell_type": "markdown",
   "metadata": {},
   "source": [
    "Explanation of the Code and Equations Used\n",
    "This code implements a simple feedforward neural network with one hidden layer and utilizes gradient descent for training. The goal is to classify the digits (as in the MNIST dataset) based on the provided features (input data) and labels (correct classifications).\n"
   ]
  },
  {
   "cell_type": "code",
   "execution_count": 17,
   "metadata": {},
   "outputs": [
    {
     "name": "stdout",
     "output_type": "stream",
     "text": [
      "Iteration: 0 Accuracy: 0.09773170731707317\n",
      "Iteration: 10 Accuracy: 0.15478048780487805\n",
      "Iteration: 20 Accuracy: 0.21060975609756097\n",
      "Iteration: 30 Accuracy: 0.27790243902439027\n",
      "Iteration: 40 Accuracy: 0.32882926829268294\n",
      "Iteration: 50 Accuracy: 0.3750487804878049\n",
      "Iteration: 60 Accuracy: 0.41121951219512193\n",
      "Iteration: 70 Accuracy: 0.45121951219512196\n",
      "Iteration: 80 Accuracy: 0.4939268292682927\n",
      "Iteration: 90 Accuracy: 0.5328536585365854\n",
      "Iteration: 100 Accuracy: 0.5627317073170731\n",
      "Iteration: 110 Accuracy: 0.5921219512195122\n",
      "Iteration: 120 Accuracy: 0.6226829268292683\n",
      "Iteration: 130 Accuracy: 0.6491951219512195\n",
      "Iteration: 140 Accuracy: 0.6724146341463415\n",
      "Iteration: 150 Accuracy: 0.6923170731707317\n",
      "Iteration: 160 Accuracy: 0.7100243902439024\n",
      "Iteration: 170 Accuracy: 0.7239756097560975\n",
      "Iteration: 180 Accuracy: 0.7354634146341463\n",
      "Iteration: 190 Accuracy: 0.7462926829268293\n",
      "Iteration: 200 Accuracy: 0.7569756097560976\n",
      "Iteration: 210 Accuracy: 0.7650243902439025\n",
      "Iteration: 220 Accuracy: 0.7718536585365854\n",
      "Iteration: 230 Accuracy: 0.778219512195122\n",
      "Iteration: 240 Accuracy: 0.7846341463414634\n",
      "Iteration: 250 Accuracy: 0.7897560975609756\n",
      "Iteration: 260 Accuracy: 0.7945365853658537\n",
      "Iteration: 270 Accuracy: 0.7982682926829269\n",
      "Iteration: 280 Accuracy: 0.8021219512195122\n",
      "Iteration: 290 Accuracy: 0.8065609756097561\n",
      "Iteration: 300 Accuracy: 0.8096585365853659\n",
      "Iteration: 310 Accuracy: 0.8127073170731707\n",
      "Iteration: 320 Accuracy: 0.8160487804878048\n",
      "Iteration: 330 Accuracy: 0.818780487804878\n",
      "Iteration: 340 Accuracy: 0.8212439024390243\n",
      "Iteration: 350 Accuracy: 0.823390243902439\n",
      "Iteration: 360 Accuracy: 0.8254878048780487\n",
      "Iteration: 370 Accuracy: 0.8272682926829268\n",
      "Iteration: 380 Accuracy: 0.8296097560975609\n",
      "Iteration: 390 Accuracy: 0.8316829268292683\n",
      "Iteration: 400 Accuracy: 0.8334390243902439\n",
      "Iteration: 410 Accuracy: 0.835\n",
      "Iteration: 420 Accuracy: 0.8361951219512195\n",
      "Iteration: 430 Accuracy: 0.8379756097560975\n",
      "Iteration: 440 Accuracy: 0.8392682926829268\n",
      "Iteration: 450 Accuracy: 0.8406585365853658\n",
      "Iteration: 460 Accuracy: 0.841780487804878\n",
      "Iteration: 470 Accuracy: 0.8427317073170731\n",
      "Iteration: 480 Accuracy: 0.8439268292682927\n",
      "Iteration: 490 Accuracy: 0.8449756097560975\n"
     ]
    }
   ],
   "source": [
    "# Train the model\n",
    "hidden_layer_weights, hidden_layer_biases, output_layer_weights, output_layer_biases = gradient_descent(training_features, training_labels, 0.10, 500)"
   ]
  },
  {
   "cell_type": "markdown",
   "metadata": {},
   "source": [
    "Explanation of the Code and Equations\n",
    "This code defines a test prediction function for evaluating a trained neural network model on individual test examples. Specifically, it predicts the class of a digit from an image, compares it to the true label, and visualizes the image."
   ]
  },
  {
   "cell_type": "markdown",
   "metadata": {},
   "source": [
    "\n",
    "Explanation of the Code and Equations\n",
    "This code defines a test prediction function for evaluating a trained neural network model on individual test examples. Specifically, it predicts the class of a digit from an image, compares it to the true label, and visualizes the image.\n",
    "\n",
    "Code Breakdown\n",
    "Function Definition: test_prediction(index, hidden_layer_weights, hidden_layer_biases, output_layer_weights, output_layer_biases)\n",
    "Purpose: The function takes an index of a test image and makes a prediction using the trained neural network, comparing the prediction with the true label.\n",
    "Parameters:\n",
    "index: The index of the image in the training_features array.\n",
    "hidden_layer_weights: Weights of the hidden layer (learned during training).\n",
    "hidden_layer_biases: Biases of the hidden layer (learned during training).\n",
    "output_layer_weights: Weights of the output layer (learned during training).\n",
    "output_layer_biases: Biases of the output layer (learned during training)."
   ]
  },
  {
   "cell_type": "code",
   "execution_count": 18,
   "metadata": {},
   "outputs": [],
   "source": [
    "# Test predictions\n",
    "def test_prediction(index, hidden_layer_weights, hidden_layer_biases, output_layer_weights, output_layer_biases):\n",
    "    current_image = training_features[:, index, None]\n",
    "    prediction = get_predictions(forward_propagation(hidden_layer_weights, hidden_layer_biases, output_layer_weights, output_layer_biases, current_image)[3])\n",
    "    label = training_labels[index]\n",
    "    print(\"Prediction:\", prediction)\n",
    "    print(\"Label:\", label)\n",
    "    current_image = current_image.reshape((28, 28)) * 255\n",
    "    plt.gray()\n",
    "    plt.imshow(current_image, interpolation='nearest')\n",
    "    plt.show()"
   ]
  },
  {
   "cell_type": "code",
   "execution_count": 19,
   "metadata": {},
   "outputs": [
    {
     "name": "stdout",
     "output_type": "stream",
     "text": [
      "Prediction: [6]\n",
      "Label: 6\n"
     ]
    },
    {
     "data": {
      "image/png": "[encoded data removed]",
      "text/plain": [
       "<Figure size 640x480 with 1 Axes>"
      ]
     },
     "metadata": {},
     "output_type": "display_data"
    },
    {
     "name": "stdout",
     "output_type": "stream",
     "text": [
      "Prediction: [3]\n",
      "Label: 3\n"
     ]
    },
    {
     "data": {
      "image/png": "[encoded data removed]",
      "text/plain": [
       "<Figure size 640x480 with 1 Axes>"
      ]
     },
     "metadata": {},
     "output_type": "display_data"
    },
    {
     "name": "stdout",
     "output_type": "stream",
     "text": [
      "Prediction: [4]\n",
      "Label: 4\n"
     ]
    },
    {
     "data": {
      "image/png": "[encoded data removed]",
      "text/plain": [
       "<Figure size 640x480 with 1 Axes>"
      ]
     },
     "metadata": {},
     "output_type": "display_data"
    }
   ],
   "source": [
    "test_prediction(0, hidden_layer_weights, hidden_layer_biases, output_layer_weights, output_layer_biases)\n",
    "test_prediction(1, hidden_layer_weights, hidden_layer_biases, output_layer_weights, output_layer_biases)\n",
    "test_prediction(2, hidden_layer_weights, hidden_layer_biases, output_layer_weights, output_layer_biases)\n"
   ]
  },
  {
   "cell_type": "code",
   "execution_count": 20,
   "metadata": {},
   "outputs": [
    {
     "name": "stdout",
     "output_type": "stream",
     "text": [
      "Validation Accuracy: 0.855\n"
     ]
    }
   ],
   "source": [
    "# Validation accuracy\n",
    "validation_predictions = get_predictions(forward_propagation(hidden_layer_weights, hidden_layer_biases, output_layer_weights, output_layer_biases, validation_features)[3])\n",
    "print(\"Validation Accuracy:\", calculate_accuracy(validation_predictions, validation_labels))"
   ]
  }
 ],
 "metadata": {
  "kernelspec": {
   "display_name": "Python 3",
   "language": "python",
   "name": "python3"
  },
  "language_info": {
   "codemirror_mode": {
    "name": "ipython",
    "version": 3
   },
   "file_extension": ".py",
   "mimetype": "text/x-python",
   "name": "python",
   "nbconvert_exporter": "python",
   "pygments_lexer": "ipython3",
   "version": "3.11.9"
  },
  "papermill": {
   "duration": 55.320944,
   "end_time": "2020-11-24T15:34:35.258832",
   "environment_variables": {},
   "exception": null,
   "input_path": "__notebook__.ipynb",
   "output_path": "__notebook__.ipynb",
   "parameters": {},
   "start_time": "2020-11-24T15:33:39.937888",
   "version": "2.1.0"
  }
 },
 "nbformat": 4,
 "nbformat_minor": 4
}
